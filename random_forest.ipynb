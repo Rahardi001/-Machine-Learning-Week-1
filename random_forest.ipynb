Recap
Here's the code you've written so far.

In [ ]:
# Code you have previously used to load data
import pandas as pd
from sklearn.metrics import mean_absolute_error
from sklearn.model_selection import train_test_split
from sklearn.tree import DecisionTreeRegressor


# Path of the file to read
iowa_file_path = '/content/train.csv'

home_data = pd.read_csv(iowa_file_path)
# Create target object and call it y
y = home_data.SalePrice
# Create X
features = ['LotArea', 'YearBuilt', '1stFlrSF', '2ndFlrSF', 'FullBath', 'BedroomAbvGr', 'TotRmsAbvGrd']
X = home_data[features]

# Split into validation and training data
train_X, val_X, train_y, val_y = train_test_split(X, y, random_state=1)

# Specify Model
iowa_model = DecisionTreeRegressor(random_state=1)
# Fit Model
iowa_model.fit(train_X, train_y)

# Make validation predictions and calculate mean absolute error
val_predictions = iowa_model.predict(val_X)
val_mae = mean_absolute_error(val_predictions, val_y)
print("Validation MAE when not specifying max_leaf_nodes: {:,.0f}".format(val_mae))

# Using best value for max_leaf_nodes
iowa_model = DecisionTreeRegressor(max_leaf_nodes=100, random_state=1)
iowa_model.fit(train_X, train_y)
val_predictions = iowa_model.predict(val_X)
val_mae = mean_absolute_error(val_predictions, val_y)
print("Validation MAE for best value of max_leaf_nodes: {:,.0f}".format(val_mae))


# Set up code checking
from learntools.core import binder
binder.bind(globals())
from learntools.machine_learning.ex6 import *
print("\nSetup complete")
Validation MAE when not specifying max_leaf_nodes: 29,653
Validation MAE for best value of max_leaf_nodes: 27,283

Setup complete
In [ ]:
# if you're using Google Colab run this cell to install extra libraries
!pip install git+https://github.com/ML-Challenge/learntools.git
Collecting git+https://github.com/ML-Challenge/learntools.git
  Cloning https://github.com/ML-Challenge/learntools.git to /tmp/pip-req-build-ikkq1mub
  Running command git clone -q https://github.com/ML-Challenge/learntools.git /tmp/pip-req-build-ikkq1mub
Building wheels for collected packages: learntools
  Building wheel for learntools (setup.py) ... done
  Created wheel for learntools: filename=learntools-0.3.4-py3-none-any.whl size=207310 sha256=8b6fe36e565765d900e25c19927dcc8860333e3e553f95c840369624ad869b96
  Stored in directory: /tmp/pip-ephem-wheel-cache-7_ankyc0/wheels/5e/42/53/aa3198486cfc460e19152f9f799b8d0f549cb88f492acb6033
Successfully built learntools
Installing collected packages: learntools
Successfully installed learntools-0.3.4
Exercises
Data science isn't always this easy. But replacing the decision tree with a Random Forest is going to be an easy win.

In [ ]:
from sklearn.ensemble import RandomForestRegressor

# Define the model. Set random_state to 1
rf_model = RandomForestRegressor(random_state=1)

# fit your model
rf_model.fit(train_X, train_y)

# Calculate the mean absolute error of your Random Forest model on the validation data

rf_val_predictions = rf_model.predict(val_X)
rf_val_mae = mean_absolute_error(rf_val_predictions, val_y)
print("Validation MAE for Random Forest Model: {}".format(rf_val_mae))

# Check your answer
step_1.check()
Validation MAE for Random Forest Model: 21857.15912981083
<IPython.core.display.Javascript object>
Correct

In [ ]:
# The lines below will show you a hint or the solution.
step_1.hint() 
step_1.solution()
So far, you have followed specific instructions at each step of your project. This helped learn key ideas and build your first model, but now you know enough to try things on your own.

Machine Learning competitions are a great way to try your own ideas and learn more as you independently navigate a machine learning project.

Keep Going
You are ready for Machine Learning Competitions.
